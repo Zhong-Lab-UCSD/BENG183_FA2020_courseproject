{
 "cells": [
  {
   "cell_type": "markdown",
   "metadata": {},
   "source": [
    "# Hierarchical Clustering"
   ]
  },
  {
   "cell_type": "markdown",
   "metadata": {},
   "source": [
    "## Table of Contents\n",
    "1. General Overview\n",
    "\n",
    "2. Inputs, Outputs, and Variations\n",
    "\n",
    "3. Algorithm\n",
    "\n",
    "4. Algorithm Approaches\n",
    "\n",
    "5. Similarity measure\n",
    "\n",
    "6. Linkage Methods\n",
    "\n",
    "7. Applications\n"
   ]
  },
  {
   "cell_type": "markdown",
   "metadata": {},
   "source": [
    "## 1. General Overview"
   ]
  },
  {
   "cell_type": "markdown",
   "metadata": {},
   "source": [
    "There are many strategies to cluster data, all of which depend on what the ultimate goal is. Clustering is an **unsupervised** learning problem, meaning the algorithm does not have a reference to check accuracy. All of them rely on different mathematical computations that are used to determine how similar these data are. When these similarities are weighted differently, various clustering patterns can occur. \n",
    "\n",
    "**Hierarchical clustering** is one of these methods where the goal is to input a data matrix and output a clustering of groupings that represent similarly expressed data closer within clusters than across other clusters. "
   ]
  },
  {
   "cell_type": "markdown",
   "metadata": {},
   "source": [
    "<img src=\"../Group3____DanielCarrillo_BeverlyPeng_SanjithRammohan/11andtwoforyoubecausedanthoughtheshouldredo.png\" width = 1000>"
   ]
  },
  {
   "cell_type": "markdown",
   "metadata": {},
   "source": [
    "## 2. Inputs, Outputs, and Variations"
   ]
  },
  {
   "cell_type": "markdown",
   "metadata": {},
   "source": [
    "**Input**: As mentioned above, typically the input for clustering is given as a distance matrix or set of vectors that represent the expression value or variance amongst the data points."
   ]
  },
  {
   "cell_type": "markdown",
   "metadata": {},
   "source": [
    "<img src=\"../Group3____DanielCarrillo_BeverlyPeng_SanjithRammohan/3.png\" width = 200>"
   ]
  },
  {
   "cell_type": "markdown",
   "metadata": {},
   "source": [
    "**Output**: The result of clustering should produce a visual representation of the cluster groups which display the closely related data points at shorter distances compared to other data points at larger distances amongst the given set."
   ]
  },
  {
   "cell_type": "markdown",
   "metadata": {},
   "source": [
    "**Scatter Plot**: Displays collection of data through a correlation relationship and distance between points representing similarity. Clusters are usually marked by color or dividing lines"
   ]
  },
  {
   "cell_type": "markdown",
   "metadata": {},
   "source": [
    "<img src=\"../Group3____DanielCarrillo_BeverlyPeng_SanjithRammohan/4.png\" width = 400>"
   ]
  },
  {
   "cell_type": "markdown",
   "metadata": {},
   "source": [
    "**Venn Diagram**: Also displays hierarchical clustering illustrating similarity with overlapping points in same plane however similarity is not quantitatively represented"
   ]
  },
  {
   "cell_type": "markdown",
   "metadata": {},
   "source": [
    "<img src=\"../Group3____DanielCarrillo_BeverlyPeng_SanjithRammohan/5.png\" width = 300>"
   ]
  },
  {
   "cell_type": "markdown",
   "metadata": {},
   "source": [
    "**Dendrogram**: A diagram that represents a tree that shows the relationship of the similarity between the input data’s clusters. It usually takes the form of a binary tree where each smaller subset of the data considered compares more specific traits to the identity of the smaller subset. "
   ]
  },
  {
   "cell_type": "markdown",
   "metadata": {},
   "source": [
    "<img src=\"../Group3____DanielCarrillo_BeverlyPeng_SanjithRammohan/6.png\" width = 300>"
   ]
  },
  {
   "cell_type": "markdown",
   "metadata": {},
   "source": [
    "#### Variations: \n",
    "\n",
    "**Agglomerative**: (bottom up) start with n single clusters and merge the most similar clusters together forming hierarchy, and keep continuing\n",
    "\n",
    "**Decisive**: (top down) start with all samples in one cluster and then start splitting up clusters by determining the most contrasting points to form hierarchy"
   ]
  },
  {
   "cell_type": "markdown",
   "metadata": {},
   "source": [
    "## 3. Algorithm"
   ]
  },
  {
   "cell_type": "markdown",
   "metadata": {},
   "source": [
    "Agglomerative Hierarchical Clustering Steps:\n",
    "1. Assign all the points to an individual cluster\n",
    "2. Merge the points with the smallest distance\n",
    "3. Repeat step 2 until only a single cluster is left"
   ]
  },
  {
   "cell_type": "markdown",
   "metadata": {},
   "source": [
    "<img src=\"../Group3____DanielCarrillo_BeverlyPeng_SanjithRammohan/7.png\" width = 400>"
   ]
  },
  {
   "cell_type": "markdown",
   "metadata": {},
   "source": [
    "Decisive Hierarchical Clustering Steps:\n",
    "1. Assign all the points to one cluster\n",
    "2. Divide the points into two different clusters based upon the largest distance difference\n",
    "3. Repeat step 2 until only single points are left"
   ]
  },
  {
   "cell_type": "markdown",
   "metadata": {},
   "source": [
    "<img src=\"../Group3____DanielCarrillo_BeverlyPeng_SanjithRammohan/8.png\" width = 400>"
   ]
  },
  {
   "cell_type": "markdown",
   "metadata": {},
   "source": [
    "## 4. Algorithm Approaches"
   ]
  },
  {
   "cell_type": "markdown",
   "metadata": {},
   "source": [
    "<img src=\"../Group3____DanielCarrillo_BeverlyPeng_SanjithRammohan/9.png\" width = 350>"
   ]
  },
  {
   "cell_type": "markdown",
   "metadata": {},
   "source": [
    "The goal of hierarchical clustering is simple: to build a tree diagram where the input data that are most similar to each other are placed on branches that are closer together, called a dendrogram. We know how close branches are to one another based on the height of the branch, which represents the amount of dissimilarity between clusters (see image above). The further to the right that the dendrogram the branch splits, the larger the dissimilarity value, meaning the more different the clusters are from one another. Walking through the algorithm step to step, it soon becomes clear that the features that merge into the same cluster sooner are more similar than those that merge later."
   ]
  },
  {
   "cell_type": "markdown",
   "metadata": {},
   "source": [
    "<img src=\"../Group3____DanielCarrillo_BeverlyPeng_SanjithRammohan/10.png\" width = 600>"
   ]
  },
  {
   "cell_type": "markdown",
   "metadata": {},
   "source": [
    "If one approaches the hierarchical clustering algorithm more vigorously, it soon becomes clear that the distance between the clusters is simply the difference between the chosen similarity metric the data is being evaluated with (which is discussed more in the next section) thus making hierarchical clustering an excellent tool when visualizing the similarities and differences between the data."
   ]
  },
  {
   "cell_type": "markdown",
   "metadata": {},
   "source": [
    "## 5. Similarity Measure"
   ]
  },
  {
   "cell_type": "markdown",
   "metadata": {},
   "source": [
    "Similarity between the new clusters formed and all remaining clusters can be calculated with various clustering methods:"
   ]
  },
  {
   "cell_type": "markdown",
   "metadata": {},
   "source": [
    "**Euclidean Distance**: "
   ]
  },
  {
   "cell_type": "markdown",
   "metadata": {},
   "source": [
    "<img src=\"../Group3____DanielCarrillo_BeverlyPeng_SanjithRammohan/EuclideanDistance.PNG\" width = 250>"
   ]
  },
  {
   "cell_type": "markdown",
   "metadata": {},
   "source": [
    "- Most common method \n",
    "- Measures similarity by calculating distance between two points\n",
    "- Runtime: O(n)\n",
    "- Advantages: easy to compute, works well with compact  datasets\n",
    "- Disadvantages: sensitive to outliers\n"
   ]
  },
  {
   "cell_type": "markdown",
   "metadata": {},
   "source": [
    "<img src=\"../Group3____DanielCarrillo_BeverlyPeng_SanjithRammohan/Euclidean.png\" width = 250>"
   ]
  },
  {
   "cell_type": "markdown",
   "metadata": {},
   "source": [
    "**Manhattan Distance**: "
   ]
  },
  {
   "cell_type": "markdown",
   "metadata": {},
   "source": [
    "<img src=\"../Group3____DanielCarrillo_BeverlyPeng_SanjithRammohan/ManhattanDistance.PNG\" width = 250>"
   ]
  },
  {
   "cell_type": "markdown",
   "metadata": {},
   "source": [
    "- Typically used when there is high dimensionality and a grid like pattern of data\n",
    "- Ex. when calculating distance on a game board or map \n",
    "- Runtime: O(3n)\n",
    "- Advantages: used to detect outliers, or higher planes\n",
    "- Disadvantages: expensive in terms of computation"
   ]
  },
  {
   "cell_type": "markdown",
   "metadata": {},
   "source": [
    "<img src=\"../Group3____DanielCarrillo_BeverlyPeng_SanjithRammohan/12.png\" width = 250>"
   ]
  },
  {
   "cell_type": "markdown",
   "metadata": {},
   "source": [
    "**Cosine Distance**: "
   ]
  },
  {
   "cell_type": "markdown",
   "metadata": {},
   "source": [
    "<img src=\"../Group3____DanielCarrillo_BeverlyPeng_SanjithRammohan/CosineDistance.PNG\" width = 200>"
   ]
  },
  {
   "cell_type": "markdown",
   "metadata": {},
   "source": [
    "- Preferred in collaborative filtering, finding similarity between vectors  \n",
    "- Ex. user similarity amongst apps such as movie/music recommendation for similar parties/clusters \n",
    "- Runtime: O(3n)\n",
    "- Advantages: independent of vector length, unaffected by rotation\n",
    "- Disadvantages: affected by linear transformations"
   ]
  },
  {
   "cell_type": "markdown",
   "metadata": {},
   "source": [
    "<img src=\"../Group3____DanielCarrillo_BeverlyPeng_SanjithRammohan/13.png\" width = 250>"
   ]
  },
  {
   "cell_type": "markdown",
   "metadata": {},
   "source": [
    "## 6. Linkage Methods"
   ]
  },
  {
   "cell_type": "markdown",
   "metadata": {},
   "source": [
    "There are several methods to determine which points in each cluster the similarity measure will be calculated with: \n",
    "- Centroid\n",
    "- Single Linkage\n",
    "- Complete Linkage\n",
    "- Average Linkage\n",
    "- Ward’s Method\n",
    "\n",
    "Having a clear understanding of what your data looks like visually and what clusters you expect are important when choosing which linkage method to use. \n"
   ]
  },
  {
   "cell_type": "markdown",
   "metadata": {},
   "source": [
    "**Centroid method**: utilizes a centroid to group clusterings. A **centroid** is a point that represents the mean value of all the points in the cluster. Once the subclusters are merged, a new centroid must be calculated for the following iteration."
   ]
  },
  {
   "cell_type": "markdown",
   "metadata": {},
   "source": [
    "<img src=\"../Group3____DanielCarrillo_BeverlyPeng_SanjithRammohan/14.png\" width = 250>"
   ]
  },
  {
   "cell_type": "markdown",
   "metadata": {},
   "source": [
    "**Single linkage**: minimizes the dissimilarity between the two closest points belonging to two different clusters. The two clusters with the lowest dissimilarity  will be merged and the next iteration occurs. "
   ]
  },
  {
   "cell_type": "markdown",
   "metadata": {},
   "source": [
    "<img src=\"../Group3____DanielCarrillo_BeverlyPeng_SanjithRammohan/15.png\" width = 250>"
   ]
  },
  {
   "cell_type": "markdown",
   "metadata": {},
   "source": [
    "**Complete linkage**: is the same as single linkage except the two farther points’ dissimilarity value is used. "
   ]
  },
  {
   "cell_type": "markdown",
   "metadata": {},
   "source": [
    "<img src=\"../Group3____DanielCarrillo_BeverlyPeng_SanjithRammohan/16.png\" width = 250>"
   ]
  },
  {
   "cell_type": "markdown",
   "metadata": {},
   "source": [
    "**Average linkage**: calculates the average dissimilarity  between all the points in one cluster and all the points in another cluster. The two clusters with the lowest dissimilarity  average will be merged. "
   ]
  },
  {
   "cell_type": "markdown",
   "metadata": {},
   "source": [
    "<img src=\"../Group3____DanielCarrillo_BeverlyPeng_SanjithRammohan/17.png\" width = 250>"
   ]
  },
  {
   "cell_type": "markdown",
   "metadata": {},
   "source": [
    "**Ward’s method**: is an agglomerative approach to hierarchical clustering. Rather than using the dissimilarity metric, Ward’s method looks at the variance of possible cluster merging pairs and merges the clusters with the lowest variance. "
   ]
  },
  {
   "cell_type": "markdown",
   "metadata": {},
   "source": [
    "<img src=\"../Group3____DanielCarrillo_BeverlyPeng_SanjithRammohan/Wards.png\" width = 450>"
   ]
  },
  {
   "cell_type": "markdown",
   "metadata": {},
   "source": [
    "## 7. Applications"
   ]
  },
  {
   "cell_type": "markdown",
   "metadata": {},
   "source": [
    "Hierarchical clustering has many gene expression related applications. Dendrograms are very important in visualizing the similarities and differences between clusters. Below is an example of a complete linkage hierarchical clustering method by Chen et al. [9] used to create a dendrogram showing the relationship between gene expression patterns of various human and mouse brain tissue samples. "
   ]
  },
  {
   "cell_type": "markdown",
   "metadata": {},
   "source": [
    "<img src=\"../Group3____DanielCarrillo_BeverlyPeng_SanjithRammohan/18_allex.png\" width = 800>"
   ]
  },
  {
   "cell_type": "markdown",
   "metadata": {},
   "source": [
    "As panel a above shows, analogous tissues across species were clustered together as opposed to species clustering together at the most granular level. This method of clustering can be compared with the PCA shown in panel b. Hierarchical clustering appears to perform better with the expected tissue and species results. \n",
    "\n",
    "There are also many non-gene expression applications of hierarchical clustering. This method can also be applied to analyzing the online relations between political senators and party affiliation [10]. Looking at the left panel below, it can seem like a daunting task trying to find the relations between the red (Republican), blue (Democratic), and black (independent) senators. \n"
   ]
  },
  {
   "cell_type": "markdown",
   "metadata": {},
   "source": [
    "<img src=\"../Group3____DanielCarrillo_BeverlyPeng_SanjithRammohan/19_allex.png\" width = 800>"
   ]
  },
  {
   "cell_type": "markdown",
   "metadata": {},
   "source": [
    "After applying hierarchical clustering of the Twitter followings of various U.S. senators, there is a clear split in the clustering pattern between Republicans and Democrats. By taking a deeper look into the meaning behind each branch split, additional political beliefs may be inferred as well. "
   ]
  },
  {
   "cell_type": "markdown",
   "metadata": {},
   "source": [
    "## References"
   ]
  },
  {
   "cell_type": "markdown",
   "metadata": {},
   "source": [
    "1. https://www.data-to-viz.com/graph/dendrogram.html\n",
    "2. https://www.sciencedirect.com/topics/computer-science/hierarchical-cluster-analysis \n",
    "3. https://www.displayr.com/what-is-hierarchical-clustering/ \n",
    "4. https://stackoverflow.com/questions/52876680/clustered-scatterplot-in-r\n",
    "5. https://www.i2tutorials.com/what-is-the-difference-between-euclidean-manhattan-and-hamming-distances/\n",
    "6. https://www.geeksforgeeks.org/ml-hierarchical-clustering-agglomerative-and-divisive-clustering/ \n",
    "7. https://www.researchgate.net/figure/Dendrogram-and-Venn-diagram-representation-of-Agglomerative-Hierarchical-Clustering_fig3_221324943\n",
    "8. https://towardsdatascience.com/hierarchical-clustering-and-its-applications-41c1ad4441a6\n",
    "9. https://doi.org/10.1371/journal.pone.0164295\n",
    "10. https://towardsdatascience.com/hierarchical-clustering-and-its-applications-41c1ad4441a6\n"
   ]
  }
 ],
 "metadata": {
  "kernelspec": {
   "display_name": "Python 3",
   "language": "python",
   "name": "python3"
  },
  "language_info": {
   "codemirror_mode": {
    "name": "ipython",
    "version": 3
   },
   "file_extension": ".py",
   "mimetype": "text/x-python",
   "name": "python",
   "nbconvert_exporter": "python",
   "pygments_lexer": "ipython3",
   "version": "3.7.4"
  }
 },
 "nbformat": 4,
 "nbformat_minor": 2
}
